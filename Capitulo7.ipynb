{
 "cells": [
  {
   "cell_type": "markdown",
   "id": "2bb8e5a7",
   "metadata": {},
   "source": [
    "# Capítulo 7. IA Generativa\n",
    "> Autor: Natalia Cely Callejas, Ronald Arturo Chavez.\\\n",
    "> Universidad Nacional de Colombia  \n",
    "> Julio 24, 2025\n"
   ]
  }
 ],
 "metadata": {
  "language_info": {
   "name": "python"
  }
 },
 "nbformat": 4,
 "nbformat_minor": 5
}
