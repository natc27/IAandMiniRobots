{
 "cells": [
  {
   "cell_type": "markdown",
   "id": "f7bffacf",
   "metadata": {},
   "source": [
    "# Capítulo 2. Autómatas Celulares.\n",
    "## Introducción\n",
    "Los Autómatas Celulares (AC) son modelos matemáticos y computacionales utilizados para describir el comportamiento de cada uno de los elementos (células) que constituyen un sistema complejo, en donde los elementos se ven influenciados por otros elementos y crean relaciones que siguen reglas locales y simples. Pueden ser de 1, 2 o más dimensiones, siendo los primeros los más utilizados y se rigen por el concepto de vecindad, que indica que cada célula del sistema presenta un comprotamiento resultado de los comportamientos de sus células vecinas y su propio comportamiento. Este modelo permite un acercamiento a sistemas complejos con estados eumerables y dinámicos en el tiempo.\n",
    "\n",
    "## Reglas básicas en ...\n",
    "\n",
    "## Modelo de difusión con ACs probabilísticos\n",
    "\n",
    "## Diagramas de Voronoi\n",
    "\n",
    "## AC 1D en impresión 3D\n",
    "\n",
    "## Aporte de las herramientas LLM\n",
    "\n",
    "## Conclusiones"
   ]
  }
 ],
 "metadata": {
  "language_info": {
   "name": "python"
  }
 },
 "nbformat": 4,
 "nbformat_minor": 5
}
