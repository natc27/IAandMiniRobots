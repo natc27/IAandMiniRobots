{
 "cells": [
  {
   "cell_type": "markdown",
   "id": "e6a81e8e",
   "metadata": {},
   "source": [
    "# Capítulo 3. Algoritmos genéticos.\n",
    "> Autor: Natalia Cely Callejas, Ronald Chavez.\\\n",
    "> Universidad Nacional de Colombia  \n",
    "> Mayo 1, 2025\n",
    "\n",
    "## Introducción \n",
    "Los algoritmos genéticos son herramientas que emulan los ciclos de vida y los comportamientos genétidos de los seres humanos, desarrollados entre 1960 y 1970, describen el flujo de la evolución humana que siguen:\n",
    "1. Selección. De los organismos (soluciones) más aptos.\n",
    "2. Mutación. Posibilidad de cambios para mantener la diversidad.\n",
    "3. Cruce. Las características de los seleccionados se transmiten a la siguiente generación.\n",
    "\n",
    "Bajo el marco de una serie de reglas que lo condicionan concordantes con la aplicación, así, los Algoritmos genéticos son utilizados para problemas de combinación y optimización, sobretodo en situaciones de altos órdenes o complejidad, cuando no existe una forma directa para abarcarlos. \n",
    "\n",
    "## Verdadera Democracia\n",
    "\n",
    "\n",
    "\n",
    "## Optimización de despacho de energía en relación con los costos de transporte\n",
    "La situación estudiada es la siguiente:\n",
    "> Una empresa proveedora de energía eléctrica dispone de 4 plantas de generación para satisfacer la demanda diaria de energía eléctrica en Cali, Bogotá, Medellín y Barranquilla. Cada una puede generar 3, 6, 5 y 4 GW al día respectivamente. Las necesidades de Cali, Bogotá, Medellín y Barranquilla son de 4, 3, 5 y 3 GW al día respectivamente. Lo costos por el transporte de energía por cada GW entre plantas y ciudades se dan en la siguente tabla:\n",
    "\n",
    "\n",
    "|        |Cali|Bogotá|Medellín|Barranquilla|\n",
    "|--------|----|------|--------|------------|\n",
    "|Planta A|1   |4     |3       |6           |\n",
    "|Planta B|4   |1     |4       |5           |\n",
    "|Planta C|3   |4     |1       |4           |\n",
    "|Planta D|6   |5     |4       |1           |\n",
    "\n",
    "> Y los costos de $KW-H$ por generador se dan en la siguiente tabla:\n",
    "\n",
    "|Generador | KW-H |\n",
    "|----------|------|\n",
    "|Planta A  | 680|\n",
    "|Planta B  | 720|\n",
    "|Planta C  |660 |\n",
    "|Planta D  | 750|"
   ]
  }
 ],
 "metadata": {
  "language_info": {
   "name": "python"
  }
 },
 "nbformat": 4,
 "nbformat_minor": 5
}
