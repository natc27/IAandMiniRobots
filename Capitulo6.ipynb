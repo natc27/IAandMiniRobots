{
 "cells": [
  {
   "cell_type": "markdown",
   "id": "a8a513f0",
   "metadata": {},
   "source": [
    "# Capítulo 6. Machine Learning.\n",
    "> Autor: Natalia Cely Callejas, Ronald Arturo Chavez.\\\n",
    "> Universidad Nacional de Colombia  \n",
    "> Julio 24, 2025\n"
   ]
  }
 ],
 "metadata": {
  "language_info": {
   "name": "python"
  }
 },
 "nbformat": 4,
 "nbformat_minor": 5
}
