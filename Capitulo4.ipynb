{
 "cells": [
  {
   "cell_type": "markdown",
   "id": "bd8b2b2f",
   "metadata": {},
   "source": [
    "# Capítulo 4. Programación genética.\n",
    "> Autor: Natalia Cely Callejas, Ronald Arturo Chavez.\\\n",
    "> Universidad Nacional de Colombia  \n",
    "> Junio 1, 2025\n",
    "\n",
    "## Introducción\n",
    "La programación genética es una técnica avanzada de inteligencia artificial que se inspira en los principios de la evolución biológica, al igual que los algoritmos genéticos. Sin embargo, se diferencia por su mayor complejidad estructural, ya que utiliza árboles sintácticos (binarios o no binarios) como representación principal de las soluciones. Estos árboles actúan como programas completos, donde cada nodo puede ser una función, un operador lógico o aritmético, y cada hoja representa variables o constantes. De forma general, el árbol define una secuencia de instrucciones que busca resolver una tarea específica de forma autónoma. Esta técnica se utiliza especialmente para generar programas que se adaptan y mejoran con el tiempo, optimizando su desempeño con respecto a una función de aptitud, que evalúa la idoneidad de cada programa para cumplir el objetivo deseado. El proceso evolutivo en la programación genética se basa en mecanismos como la selección, el cruce y la mutación, que permiten recombinar y modificar fragmentos de código para explorar nuevas soluciones. A través de múltiples generaciones, la población de programas evoluciona, produciendo versiones más eficientes, lo que convierte a la programación genética en una herramienta poderosa para la solución de problemas complejos donde el universo de búsqueda es amplio y poco estructurado.\n",
    "\n",
    "## Ejemplos en MEPX\n",
    "MEPX es un software de análisis de datos basado en tablas, que permite realizar la transformación, visualización y pronóstico de datos futuros utilizando programación genética, de manera intrínseca cuenta con "
   ]
  }
 ],
 "metadata": {
  "language_info": {
   "name": "python"
  }
 },
 "nbformat": 4,
 "nbformat_minor": 5
}
