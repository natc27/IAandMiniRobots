{
 "cells": [
  {
   "cell_type": "markdown",
   "metadata": {},
   "source": [
    "# 1.Panorama de la IA.\n",
    "> Autor: Natalia Cely Callejas, Sebastián Arcila.\\\n",
    "> Universidad Nacional de Colombia  \n",
    "> Abril 10, 2025\n",
    "\n",
    "## Introducción.\n",
    "La inteligencia artificial es actualmente una herramienta fundamental en la vida cotidiana de las personas de diferentes áreas del conocimiento y con diferentes fines. Sin embargo, aún se encuentra en etapas tempranas, por lo que su implementación se ve rodeada por incertidumbre y expectativa sobre los alcances que puede tener de seguirse desarrollando. \n",
    "\n",
    "Para su estudio es indispensable conocer el estado actual del tema, sus implicaciones en la vida en sociedad y sus fundamentos, es por esto que este taller presenta las definiciones básicas de Inteligencia Artificial, propias y dadas por las mismas herramientas generativas a disposición (LLM), avances de vanguardia en el tema y el entorno gubernamental.\n",
    "\n",
    "## Definición de IA por LLM.\n",
    "### ChatGPT. \n",
    "La Inteligencia Artificial (IA) es una rama de las ciencias de la computación que se ocupa del diseño y desarrollo de sistemas capaces de realizar tareas que, si fueran ejecutadas por seres humanos, requerirían inteligencia. Estas tareas incluyen procesos como el razonamiento, el aprendizaje, la resolución de problemas, la percepción del entorno y la toma de decisiones autónoma.\n",
    "\n",
    "### DeepSeek.\n",
    "Inteligencia Artificial (IA) es la disciplina que busca desarrollar sistemas o máquinas capaces de realizar tareas que normalmente requieren inteligencia humana, como: Aprender, razonar, resolver problemas, reconocer patrones, adaptarse.\n",
    "\n",
    "*Definición técnica:*\n",
    "La IA es un conjunto de algoritmos y modelos computacionales diseñados para emular capacidades cognitivas humanas, procesando grandes cantidades de datos y generando respuestas o acciones autónomas.\n",
    "\n",
    "*Tipos de IA:*\n",
    "- IA estrecha (ANI): Especializada en una tarea (ej.: asistentes virtuales como Siri).\n",
    "- IA general (AGI): Hipotética, con habilidades humanas amplias (aún no existe).\n",
    "- Superinteligencia (ASI): Superior a la humana (teórica, debates éticos).\n",
    "\n",
    "### Copilot.\n",
    "La inteligencia artificial (IA) es como un cerebro digital diseñado para imitar ciertos aspectos de la inteligencia humana, como aprender, razonar, resolver problemas, entender lenguaje y adaptarse a nuevas circunstancias. Se basa en algoritmos y modelos matemáticos que le permiten procesar datos, identificar patrones y tomar decisiones. La IA se utiliza en una variedad de áreas, como el reconocimiento facial, la traducción de idiomas, la medicina, los vehículos autónomos y mucho más.\n",
    "\n",
    "### Gemini.\n",
    "La Inteligencia Artificial (IA) es un campo de la informática que se enfoca en crear sistemas que pueden realizar tareas que normalmente requieren inteligencia humana. Estas tareas incluyen el aprendizaje, el razonamiento, la resolución de problemas, la percepción, la comprensión del lenguaje natural y la toma de decisiones.   \n",
    "\n",
    "En otras palabras, la IA busca desarrollar máquinas y software que puedan simular la inteligencia humana. Esto se logra a través de una variedad de técnicas y enfoques, como el aprendizaje automático (machine learning), el aprendizaje profundo (deep learning), el procesamiento del lenguaje natural (NLP), la visión por computadora y la robótica.   \n",
    "\n",
    "La IA tiene como objetivo tanto comprender los principios que posibilitan el comportamiento inteligente (objetivo científico) como diseñar sistemas inteligentes (objetivo tecnológico).\n",
    "\n",
    "## Definición propia.\n",
    "\n",
    "\n",
    "## Análisis del video.\n",
    "\n",
    "## Planes del gobierno.\n",
    "\n",
    "## Aporte de las herramientas LLM.\n",
    "\n",
    "## Conclusiones."
   ]
  }
 ],
 "metadata": {
  "language_info": {
   "name": "python"
  }
 },
 "nbformat": 4,
 "nbformat_minor": 2
}
