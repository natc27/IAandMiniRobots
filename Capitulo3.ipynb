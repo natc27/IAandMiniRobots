{
 "cells": [
  {
   "cell_type": "markdown",
   "id": "e6a81e8e",
   "metadata": {},
   "source": [
    "# Capítulo 3. Algoritmos genéticos.\n",
    "> Autor: Natalia Cely Callejas, Ronald Chavez.\\\n",
    "> Universidad Nacional de Colombia  \n",
    "> Mayo 1, 2025"
   ]
  }
 ],
 "metadata": {
  "language_info": {
   "name": "python"
  }
 },
 "nbformat": 4,
 "nbformat_minor": 5
}
