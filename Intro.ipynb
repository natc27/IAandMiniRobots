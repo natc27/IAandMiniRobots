{
 "cells": [
  {
   "cell_type": "markdown",
   "metadata": {},
   "source": [
    "# 1.Panorama de la IA.\n",
    "> Autor: Natalia Cely Callejas  \n",
    "> Universidad Nacional de Colombia  \n",
    "> Abril 10, 2025\n",
    "\n",
    "## Introducción.\n",
    "La inteligencia artificial es actualmente una herramienta fundamental en la vida cotidiana de las personas de diferentes áreas del conocimiento y con diferentes fines. Sin embargo, aún se encuentra en etapas tempranas, por lo que su implementación se ve rodeada por incertidumbre y expectativa sobre los alcances que puede tener de seguirse desarrollando. \n",
    "Para su estudio es indispensable conocer el estado actual del tema, sus implicaciones en la vida en sociedad y sus fundamentos, es por esto que este taller presenta las definiciones básicas de Inteligencia Artificial, propias y dadas por las mismas herramientas generativas a disposición (LLM), avances de vanguardia en el tema y el entorno gubernamental.\n",
    "\n",
    "## Definición de IA por LLM.\n",
    "### ChatGPT. \n",
    "La Inteligencia Artificial (IA) es una rama de las ciencias de la computación que se ocupa del diseño y desarrollo de sistemas capaces de realizar tareas que, si fueran ejecutadas por seres humanos, requerirían inteligencia. Estas tareas incluyen procesos como el razonamiento, el aprendizaje, la resolución de problemas, la percepción del entorno y la toma de decisiones autónoma.\n",
    "### DeepSeek.\n",
    "\n",
    "### Copilot.\n",
    "\n",
    "### Gemini.\n",
    "\n",
    "## Definición propia.\n",
    "\n",
    "## Análisis del video.\n",
    "\n",
    "## Planes del gobierno.\n",
    "\n",
    "## Aporte de las herramientas LLM.\n",
    "\n",
    "## Conclusiones."
   ]
  }
 ],
 "metadata": {
  "language_info": {
   "name": "python"
  }
 },
 "nbformat": 4,
 "nbformat_minor": 2
}
