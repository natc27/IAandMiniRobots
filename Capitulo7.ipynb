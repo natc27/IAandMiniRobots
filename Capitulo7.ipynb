{
 "cells": [
  {
   "cell_type": "markdown",
   "id": "2bb8e5a7",
   "metadata": {},
   "source": [
    "# Capítulo 7. IA Generativa\n",
    "> Autor: Natalia Cely Callejas, Ronald Arturo Chavez.\\\n",
    "> Universidad Nacional de Colombia  \n",
    "> Julio 24, 2025\n"
   ]
  },
  {
   "cell_type": "markdown",
   "id": "5096df4f",
   "metadata": {},
   "source": [
    "# Desarrollar un agente de IA para el manejo de tareas del curso"
   ]
  },
  {
   "cell_type": "code",
   "execution_count": 1,
   "id": "46b7645a",
   "metadata": {},
   "outputs": [
    {
     "name": "stdout",
     "output_type": "stream",
     "text": [
      "\n",
      "========= AGENTE DE TAREAS INTELIGENTE =========\n",
      "1. Agregar nueva tarea\n",
      "2. Ver tareas pendientes\n",
      "3. Eliminar una tarea\n",
      "4. Consultar un tema al asistente IA\n",
      "5. Salir\n",
      "👋 ¡Hasta luego! Sigue estudiando con disciplina.\n"
     ]
    }
   ],
   "source": [
    "import openai\n",
    "import json\n",
    "import os\n",
    "\n",
    "openai.api_key = \"TU_API_KEY_AQUI\"\n",
    "\n",
    "TAREAS_FILE = \"tareas.json\"\n",
    "\n",
    "\n",
    "def cargar_tareas():\n",
    "    \"\"\"Carga las tareas desde el archivo JSON.\"\"\"\n",
    "    if os.path.exists(TAREAS_FILE):\n",
    "        with open(TAREAS_FILE, \"r\") as archivo:\n",
    "            try:\n",
    "                return json.load(archivo)\n",
    "            except json.JSONDecodeError:\n",
    "                return []\n",
    "    return []\n",
    "\n",
    "def guardar_tareas(tareas):\n",
    "    \"\"\"Guarda las tareas en el archivo JSON.\"\"\"\n",
    "    with open(TAREAS_FILE, \"w\") as archivo:\n",
    "        json.dump(tareas, archivo, indent=2)\n",
    "\n",
    "def agregar_tarea():\n",
    "    \"\"\"Permite agregar una nueva tarea.\"\"\"\n",
    "    nombre = input(\"🔹 Nombre de la tarea: \").strip()\n",
    "    fecha = input(\"📅 Fecha de entrega (YYYY-MM-DD): \").strip()\n",
    "    if nombre and fecha:\n",
    "        tareas = cargar_tareas()\n",
    "        tareas.append({\"nombre\": nombre, \"fecha\": fecha})\n",
    "        guardar_tareas(tareas)\n",
    "        print(\"✅ Tarea agregada correctamente.\")\n",
    "    else:\n",
    "        print(\"❌ Error: nombre o fecha vacíos.\")\n",
    "\n",
    "def mostrar_tareas():\n",
    "    \"\"\"Muestra las tareas pendientes.\"\"\"\n",
    "    tareas = cargar_tareas()\n",
    "    if not tareas:\n",
    "        print(\"\\n📭 No tienes tareas registradas.\")\n",
    "    else:\n",
    "        print(\"\\n📌 Tareas pendientes:\")\n",
    "        for i, tarea in enumerate(tareas, 1):\n",
    "            print(f\"{i}. {tarea['nombre']} (Entrega: {tarea['fecha']})\")\n",
    "\n",
    "def eliminar_tarea():\n",
    "    \"\"\"Permite eliminar una tarea completada.\"\"\"\n",
    "    tareas = cargar_tareas()\n",
    "    if not tareas:\n",
    "        print(\"📭 No hay tareas para eliminar.\")\n",
    "        return\n",
    "    mostrar_tareas()\n",
    "    try:\n",
    "        num = int(input(\"✂️ Escribe el número de la tarea que deseas eliminar: \"))\n",
    "        if 1 <= num <= len(tareas):\n",
    "            tarea_eliminada = tareas.pop(num - 1)\n",
    "            guardar_tareas(tareas)\n",
    "            print(f\"✅ Tarea '{tarea_eliminada['nombre']}' eliminada.\")\n",
    "        else:\n",
    "            print(\"❌ Número inválido.\")\n",
    "    except ValueError:\n",
    "        print(\"❌ Entrada inválida. Debe ser un número.\")\n",
    "\n",
    "\n",
    "def asistente_gpt():\n",
    "    \"\"\"Consulta al modelo de IA sobre un tema del curso.\"\"\"\n",
    "    pregunta = input(\"🤖 ¿Qué quieres preguntar al asistente?: \").strip()\n",
    "    if not pregunta:\n",
    "        print(\"❌ La pregunta no puede estar vacía.\")\n",
    "        return\n",
    "    try:\n",
    "        respuesta = openai.ChatCompletion.create(\n",
    "            model=\"gpt-3.5-turbo\",\n",
    "            messages=[{\"role\": \"user\", \"content\": pregunta}]\n",
    "        )\n",
    "        contenido = respuesta[\"choices\"][0][\"message\"][\"content\"]\n",
    "        print(\"\\n🧠 Asistente IA responde:\")\n",
    "        print(contenido)\n",
    "    except Exception as e:\n",
    "        print(\"❌ Ocurrió un error con la API:\", str(e))\n",
    "\n",
    "\n",
    "def menu():\n",
    "    while True:\n",
    "        print(\"\\n========= AGENTE DE TAREAS INTELIGENTE =========\")\n",
    "        print(\"1. Agregar nueva tarea\")\n",
    "        print(\"2. Ver tareas pendientes\")\n",
    "        print(\"3. Eliminar una tarea\")\n",
    "        print(\"4. Consultar un tema al asistente IA\")\n",
    "        print(\"5. Salir\")\n",
    "\n",
    "        opcion = input(\"Elige una opción (1-5): \").strip()\n",
    "\n",
    "        if opcion == \"1\":\n",
    "            agregar_tarea()\n",
    "        elif opcion == \"2\":\n",
    "            mostrar_tareas()\n",
    "        elif opcion == \"3\":\n",
    "            eliminar_tarea()\n",
    "        elif opcion == \"4\":\n",
    "            asistente_gpt()\n",
    "        elif opcion == \"5\":\n",
    "            print(\"👋 ¡Hasta luego! Sigue estudiando con disciplina.\")\n",
    "            break\n",
    "        else:\n",
    "            print(\"❗ Opción no válida. Intenta de nuevo.\")\n",
    "\n",
    "\n",
    "if __name__ == \"__main__\":\n",
    "    menu()\n"
   ]
  },
  {
   "cell_type": "markdown",
   "id": "56d10c05",
   "metadata": {},
   "source": [
    "Estudio de diferentes chatbots cuyo costo sea 0$ para actividades como: resumen de texto, generación de texto, generación de imágenes, generación de audio y generación de video"
   ]
  },
  {
   "cell_type": "markdown",
   "id": "ac510112",
   "metadata": {},
   "source": [
    "| Herramienta / Chatbot            | Texto (resumen/generación) | Imágenes           | Audio       | Video           | Costo | Requiere cuenta  |\n",
    "| -------------------------------- | -------------------------- | ------------------ | ----------- | --------------- | ----- | ---------------- |\n",
    "| **ChatGPT Free (OpenAI)**        | ✅ Sí (resumen, generación) | ❌ No               | ❌ No        | ❌ No            | \\$0   | ✅ Sí             |\n",
    "| **Gemini (Google)**              | ✅ Sí                       | ✅ Sí               | ❌ No        | ❌ No            | \\$0   | ✅ Sí             |\n",
    "| **Claude.ai (Anthropic)**        | ✅ Sí (muy bueno)           | ❌ No               | ❌ No        | ❌ No            | \\$0   | ✅ Sí             |\n",
    "| **Copilot (Microsoft)**          | ✅ Sí (basado en GPT-4)     | ❌ No               | ❌ No        | ❌ No            | \\$0   | ✅ Sí             |\n",
    "| **Hugging Face Spaces**          | ✅ Sí (varios modelos)      | ✅ Sí               | ✅ Sí        | ✅ Sí            | \\$0   | ❌ No (opcional)  |\n",
    "| **DALL·E Playground**            | ❌ No                       | ✅ Sí               | ❌ No        | ❌ No            | \\$0   | ❌ No             |\n",
    "| **Leonardo AI (free plan)**      | ❌ No                       | ✅ Sí               | ❌ No        | ❌ No            | \\$0   | ✅ Sí             |\n",
    "| **TTSMaker / ElevenLabs (free)** | ❌ No                       | ❌ No               | ✅ Sí        | ❌ No            | \\$0   | ✅/❌ (algunos sí) |\n",
    "| **Kaiber.ai (free demo)**        | ❌ No                       | ✅ Imágenes a video | ✅ Música IA | ✅ Sí (limitado) | \\$0   | ✅ Sí             |\n",
    "| **Runway ML (free demo)**        | ❌ No                       | ❌ No               | ✅ Sí        | ✅ Sí            | \\$0   | ✅ Sí             |\n",
    "| **Pictory.ai (demo)**            | ✅ Texto -> video           | ✅ Visuales         | ✅ Voz IA    | ✅ Video IA      | \\$0   | ✅ Sí             |\n"
   ]
  },
  {
   "cell_type": "markdown",
   "id": "5e0f07ac",
   "metadata": {},
   "source": [
    "## Aportes de LLMs\n",
    "\n",
    "El uso de modelos de lenguaje grandes (LLMs) en la creación de un agente inteligente para gestionar tareas académicas demuestra su valor como herramientas que mejoran la productividad y el aprendizaje. Gracias a su capacidad de comprensión y generación de lenguaje natural, los LLMs permiten desarrollar asistentes que interactúan de forma fluida con los usuarios, facilitando la organización, el registro y la consulta de actividades.\n",
    "\n",
    "La exploración de diferentes herramientas basadas en LLMs y con acceso gratuito permite identificar su amplio rango de aplicaciones en tareas como generación de contenido, síntesis de voz, diseño gráfico y creación audiovisual. Este estudio evidencia que los LLMs no son tecnologías limitadas al texto, sino componentes clave en plataformas multimodales que transforman cómo los usuarios interactúan con la información y los medios digitales.\n"
   ]
  },
  {
   "cell_type": "markdown",
   "id": "16581c07",
   "metadata": {},
   "source": [
    "## Conclusiones\n",
    "Este tipo de aplicaciones introduce al estudiante en el mundo del desarrollo de sistemas inteligentes, fortaleciendo habilidades como la solución de problemas, la modularidad del software y la integración de tecnologías emergentes. El estudio comparativo de diferentes herramientas de inteligencia artificial basadas en LLMs con acceso gratuito revela la amplia gama de capacidades que estas tecnologías ofrecen hoy en día. Desde la generación y resumen de texto, hasta la creación de imágenes, síntesis de voz y producción de video, los LLMs han evolucionado hacia plataformas multimodales accesibles y versátiles. Esta exploración permite al estudiante conocer y comparar herramientas útiles para múltiples contextos académicos, creativos y técnicos, desarrollando habilidades de evaluación, criterio técnico y selección de tecnologías apropiadas."
   ]
  }
 ],
 "metadata": {
  "kernelspec": {
   "display_name": "Python 3",
   "language": "python",
   "name": "python3"
  },
  "language_info": {
   "codemirror_mode": {
    "name": "ipython",
    "version": 3
   },
   "file_extension": ".py",
   "mimetype": "text/x-python",
   "name": "python",
   "nbconvert_exporter": "python",
   "pygments_lexer": "ipython3",
   "version": "3.11.9"
  }
 },
 "nbformat": 4,
 "nbformat_minor": 5
}
