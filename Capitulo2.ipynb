{
 "cells": [
  {
   "cell_type": "markdown",
   "id": "f7bffacf",
   "metadata": {},
   "source": [
    "# Capítulo 2. Autómatas Celulares.\n",
    "> Autor: Natalia Cely Callejas, Ronald Chavez.\\\n",
    "> Universidad Nacional de Colombia  \n",
    "> Abril 10, 2025\n",
    "\n",
    "## Introducción\n",
    "Los Autómatas Celulares (AC) son modelos matemáticos y computacionales utilizados para describir el comportamiento de cada uno de los elementos (células) que constituyen un sistema complejo, en donde los elementos se ven influenciados por otros elementos y crean relaciones que siguen reglas locales y simples. Pueden ser de 1, 2 o más dimensiones, siendo los primeros los más utilizados y se rigen por el concepto de vecindad, que indica que cada célula del sistema presenta un comprotamiento resultado de los comportamientos de sus células vecinas y su propio comportamiento. Este modelo permite un acercamiento a sistemas complejos con estados eumerables y dinámicos en el tiempo.\n",
    "\n",
    "## Reglas básicas en ...\n",
    "\n",
    "## Modelo de difusión con ACs probabilísticos\n",
    "\n",
    "## Diagramas de Voronoi\n",
    "Para realizar un análisis demográfico por medio de los diagramas de Voronoi se tomo como sujeto de la muestra la ciudad de Ibagué, capital del departamento Tolima. Considerada una ciudad pequeña, cuenta con una extensión territorial de $1.394,3 \\ km^2$ y una población (2025) de 577.527 personas, lo que resulta en una densidad poblacional de $414,2 \\ personas/km^2$, considerablemente mayor que la del departamento Tolima en total. Así, su población se distribuye con un comportamiento resumida en la siguiente imagen:\n",
    "\n",
    "![Distribución poblacional de Ibagué, Tolima](Multimedia/Distribucionpoblacional-ibague.png)\n",
    "\n",
    "Se puede observar que la mayoría de la poblción se encuentra en edades infantiles, jóvenes y productivas, por lo que el entretenimiento es uno de los servicios que pueden tener mejor recibimiento por parte de los habitantes de la ciudad mencionada. Es por esto, que se definió realizar el análisis de oferta de Cines en la ciudad, por medio de diagramas de Voronoi que puedan reflejar las áreas más cercanas a cada uno de los puntos actuales.\n",
    "\n",
    "![Diagrama de Voronoisobre mapa](Multimedia/voronoi-map.png)\n",
    "\n",
    "O de forma simplificada (sin la imagen base, para mejorar su lectura):\n",
    "\n",
    "![Diagrama de Voronoi](Multimedia/voronoi.png)\n",
    "\n",
    "Los resultados indican una teselación altamente irregular, con concentración de los puntos en la parte superior izquierda y superior central del mapa, dejando de lado comunas como la 7 que contiene el barrio El Salado, con una de las mayores densidades poblacionales de la ciudad, lo que indica una falta de oferta en comercios relacionados con el cine en varios sectores de la ciudad.\n",
    "\n",
    "## Aporte de las herramientas LLM\n",
    "Además de la redacción, se utilizó la herramienta LLM ChatGPT para identificar enlaces y sitios web útiles para encontrar la información y los datos verídicos de la ciudad ejemplo en el punto 3. Además de enumerar opciones de herramientas para la ilustración del diagrama y una guía general de los pasos a seguir para su trazo.\n",
    "\n",
    "## Conclusiones\n",
    "\n",
    "Los diagramas de Voronoi pueden ser en sí mismos una herramienta para actividades externas al desarrollo tecnológico, como la decisión de dónde ubicar un nuevo negocio, o como asesoría para políticas públicas, entre otros, ya que permiten trazar de manera visual el comportamiento de espacios en una ciudad y resaltan irregularidades, fenómenos como supoblación o sobrepoblación sobre las que se pueden tomar medidas. Adicionalmente, la posibilidad de realizar un análisis más completo a través del tiempo puede resaltar fenómenos como cuáles negocios se matienen, cuáles migran o se cierran, comportamientos analizables desde el enfoque de los autómatas celulares, y guiar a las personas a ubicar sus negocios no solo en lugares que se mantengan a través del tiempo sino que además suplan las necesidades de la sociedad circundante.\n",
    "\n",
    "## Bibliografía\n",
    "- City-Facts Colombia. Datos poblacionales de Ibagué. City Facts. Recuperado de: [CityFacts](https://es.city-facts.com/ibagu%C3%A9/population)"
   ]
  }
 ],
 "metadata": {
  "language_info": {
   "name": "python"
  }
 },
 "nbformat": 4,
 "nbformat_minor": 5
}
